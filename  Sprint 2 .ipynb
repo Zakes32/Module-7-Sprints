{
 "cells": [
  {
   "cell_type": "code",
   "execution_count": 91,
   "metadata": {},
   "outputs": [
    {
     "name": "stdout",
     "output_type": "stream",
     "text": [
      "Maknaeline cuties!!! \n",
      "\n",
      "#ExaBFF #ExaARMY @BTS_twt https://t.co/MQMa9paPc1\n",
      "Taehyung sings 'Please love her'\n",
      "\n",
      "Could you wait for me?\n",
      "I'll go to you to pick you up\n",
      "Why you keep crying?\n",
      "Tell me… https://t.co/CxjXPiBrR3\n",
      "So it means Big Hit will be the company whose ownership will be organized via shares of stock which are intended to… https://t.co/e0dkrb3Qwr\n",
      "Jin on Weverse 0807 \n",
      "\n",
      "ARMY : Seokjinie's rolling eyes.. 👀 \n",
      "I'd like to see MC Jin again🎤 \n",
      "#102ndMoonByJin… https://t.co/leJgsKSOKw\n",
      "The worldwide physical release for 'MAP OF THE SOUL: 7 ~ THE JOURNEY ~' is today:\n",
      "\n",
      "Order your copies: https://t.co/WUBrOE9Sov\n",
      "MAP OF THE SOUL : 7 The Journey by @BTS_twt has been certified Triple Platinum (RIAJ) in Japan for selling 750,000… https://t.co/BsEjgoHuyH\n",
      "K economic media said Big Hit Entertainment received preliminary screening approval for public listing (KOSPI : Kor… https://t.co/yrvdPMVbtp\n",
      "Drop your #ExaBFF #ExaARMY (@BTS_twt) votes velow!\n",
      "[#방탄밤] MAP OF THE SONG : 7 본편에 넣지 못한 방탄소년단의 비하인드 영상 모음zip 🎵🎤🥁🎶 #맵옵송zip #하드털이방밤 #앞으로도_보라해💜\n",
      "(https://t.co/2Y0zNdHJnr)\n",
      "RT @TinyTANofficial: D-1, the Magic Door will open!\n",
      "#TinyTAN https://t.co/LKMCAJMpjG\n",
      "#UNISTARS, R U ready ? ✨\n",
      "\n",
      "#StayTuned #Next #Adventure #BT21_UNIVERSE #Season3 #EndOfSeason #BT21 https://t.co/oSzBcrlvba\n",
      "Jhope on Weverse 0807\n",
      "\n",
      "😢 😒\n",
      "\n",
      "@BTS_twt https://t.co/ScgybTGshB\n",
      "RT @kimseokjingifs: [FILA X BTS] Go beyond 💖✨\n",
      "💾: https://t.co/YFaijLDy4h\n",
      "\n",
      "#BTS #방탄소년단 @BTS_twt https://t.co/XIT6gUsZPM\n",
      "'MAP OF THE SOUL: 7 ~ THE JOURNEY ~' has been certified 3x RIAJ platinum in Japan for 750,000 copies sold 🇯🇵 https://t.co/8x6uVbnhBM\n",
      "RT @weverseshop: #방탄소년단 과 아미가 함께 했던 1년의 모든 순간💜\n",
      "#MEMORIES_OF_2019 DVD 예약 판매 기간이 얼마 남지 않았어요!\n",
      "8/11(화) 23:59(KST) 까지 #위버스샵 에서 구매하고, 예약 구매자에게만 증…\n",
      "RT @fila_korea: 지금 여기 이곳을 넘어,\n",
      "\n",
      "Go Beyond⠀\n",
      "\n",
      "#휠라 #방탄소년단 #BTS #RM #Jin #SUGA\n",
      "#jhope #Jimin #V #JungKook\n",
      "#FALL #FILA #GOBEYOND @BTS_twt https:/…\n"
     ]
    }
   ],
   "source": [
    "import tweepy\n",
    "from tweepy import OAuthHandler\n",
    "from textblob import TextBlob\n",
    "import matplotlib.pyplot as plt\n",
    "\n",
    "consumer_key = 'YD47qcuy5q7do4p9qAADrIoNR'\n",
    "consumer_secret = 'sMNajuqqDYe5mBuiTuWUvbwt3x2xlagWEEbDZgM35bNQ3bPSYl'\n",
    "access_token = '1284126023244754944-Hi1gIb80oPKi7tNwT3mBemvzHndVQg'\n",
    "access_secret = 'soKQUAwxQmT9l8smxDvDReC32IgPV7Uel7Qc29ogUzFDB'\n",
    "\n",
    "auth = OAuthHandler(consumer_key, consumer_secret)\n",
    "auth.set_access_token(access_token, access_secret)\n",
    "\n",
    "api = tweepy.API(auth)\n",
    "\n",
    "tweets = api.home_timeline()\n",
    "for tweet in tweets:\n",
    "    print(tweet.text)"
   ]
  },
  {
   "cell_type": "code",
   "execution_count": 92,
   "metadata": {},
   "outputs": [
    {
     "name": "stdout",
     "output_type": "stream",
     "text": [
      "Enter a keyword to search in twitter about the latest-KFC New burger \n",
      "How many hashtags would you like-50\n",
      "RT @GeijutsuD: @KatTheWonk @kelcrw4 @cspanwj @KennRWeeks @lissasno1fan @MarthaW19860146 @DavidMa35376344 @Kybelle195739 @GraSocephyie529 @H…\n",
      "@KatTheWonk @kelcrw4 @cspanwj @KennRWeeks @lissasno1fan @MarthaW19860146 @DavidMa35376344 @Kybelle195739… https://t.co/0BW4dktuDI\n",
      "#ThingsIJustDontUnderstand\n",
      "KFC's new Confusinger Tower Burger. I just can't seem to get it.\n",
      "Dear @mcdonaldsindia your chicken maharaja burger has clearly changed the ingredients and the taste is different, i… https://t.co/zIXtfQr4zp\n",
      "A new study compared children's meals at McDonald's, KFC and Burger King https://t.co/fFhlKYUAkf\n",
      "RT @MattyMurphz: Today the government announced a new strategy to tackle obesity. \n",
      "Next week the governments new ‘ Eat Out to Help Out’ wil…\n",
      "5) @kfc “chick’n” sandwich because it was nice to have something slightly different than a veggie burger and this w… https://t.co/Hu4V49Ddkx\n",
      "Ok kfc new zinger spicy bbq ni; per visualized very attractive. Received a 'lousy visual' burger but thanks God the… https://t.co/qrSqv2LY2j\n",
      "#BakraLivesMatter \n",
      "\n",
      "I dont want to see any tweet hating on Muslims for slaughtering animals. \n",
      "about  1 million kill… https://t.co/wf2dcY4CX0\n",
      "About 1 billion animals are killed each year by KFC, McDonald's,burger King etc to feed the rich &amp; make money &amp; no… https://t.co/zwJST6xzeb\n",
      "Trying out the new KFC chili chicken burger. Not bad. Bit strange.\n",
      "RT @MattyMurphz: Today the government announced a new strategy to tackle obesity. \n",
      "Next week the governments new ‘ Eat Out to Help Out’ wil…\n",
      "Today the government announced a new strategy to tackle obesity. \n",
      "Next week the governments new ‘ Eat Out to Help O… https://t.co/cHyrPYgHsr\n",
      "About 1 billion animals are killed each year by KFC, McDonald's,burger King etc to feed the rich &amp; make money &amp; no… https://t.co/Ba27VxGxgz\n",
      "I've just been craving all day. Now I want that new oreo icecream from kfc with my burger 🙄\n",
      "RT @honest_straight: How about starting by scrapping the \"Eat out to help out\" scheme from the chancellor subsidising people eating at McDo…\n",
      "How about starting by scrapping the \"Eat out to help out\" scheme from the chancellor subsidising people eating at M… https://t.co/ej3DEDL1k4\n"
     ]
    }
   ],
   "source": [
    "searchLatest = input(\"Enter a keyword to search in twitter about the latest-\")\n",
    "noOfSearchs = int(input(\"How many hashtags would you like-\"))\n",
    "tweets = tweepy.Cursor(api.search, q=searchLatest).items(noOfSearchs)\n",
    "\n",
    "positive = 0\n",
    "negative = 0\n",
    "normal = 0\n",
    "polarity = 0\n",
    "\n",
    "for tweet in tweets:\n",
    "    print(tweet.text)\n",
    "    analysis = TextBlob(tweet.text)\n",
    "    \n",
    "    polarity += analysis.sentiment.polarity\n",
    "    \n",
    "\n"
   ]
  },
  {
   "cell_type": "code",
   "execution_count": 94,
   "metadata": {},
   "outputs": [
    {
     "name": "stdout",
     "output_type": "stream",
     "text": [
      "Number of people reacted on KFC New burger  with analyzing 50 Tweets\n",
      "Positive\n"
     ]
    },
    {
     "data": {
      "text/plain": [
       "<function matplotlib.pyplot.show(*args, **kw)>"
      ]
     },
     "execution_count": 94,
     "metadata": {},
     "output_type": "execute_result"
    },
    {
     "data": {
      "image/png": "[encoded data removed]",
      "text/plain": [
       "<Figure size 432x288 with 1 Axes>"
      ]
     },
     "metadata": {},
     "output_type": "display_data"
    }
   ],
   "source": [
    "if (analysis.sentiment.polarity == 0):\n",
    "    neutral += '1'\n",
    "elif (analysis.sentiment.polarity < 0.00):\n",
    "    negative += 1\n",
    "elif (analysis.sentiment.polarity > 0.00):\n",
    "    positive += 1\n",
    "\n",
    "    \n",
    "def percentage(part, whole):\n",
    "    return 100 * float(part)/float(whole)\n",
    "    \n",
    "positive = percentage(positive, noOfSearchs)\n",
    "negative = percentage(negative, noOfSearchs)\n",
    "neutral = percentage(neutral, noOfSearchs)\n",
    "\n",
    "positive = format(positive, '2f')\n",
    "neutral = format(neutral, '2f')\n",
    "negative = format(negative, '2f')\n",
    "\n",
    "\n",
    "print(\"Number of people reacted on \" + searchLatest + \" with analyzing \" +str(noOfSearchs) +\" Tweets\")\n",
    "\n",
    "if (polarity == 0):\n",
    "    print(\"Neutral\")\n",
    "elif (polarity > 0):\n",
    "    print(\"Positive\")\n",
    "elif (polarity < 0):\n",
    "    print(\"Negative\")\n",
    "\n",
    "\n",
    "labels = ['Positive ['+str(positive)+'%]', 'Negative ['+str(negative)+'%]', 'Neutral ['+str(neutral)+'%]' ]\n",
    "sizes = [positive, negative, neutral]\n",
    "colors = ['blue', 'yellowgreen', 'purple']\n",
    "patches, text = plt.pie(sizes, colors=colors, startangle=90)\n",
    "\n",
    "plt.legend(patches, labels, loc=\"best\")\n",
    "plt.title(\"Number of people reacted on \" + searchLatest + \" with analyzing \" +str(noOfSearchs) +\" Tweets\")\n",
    "plt.axis('equal')\n",
    "plt.tight_layout()\n",
    "plt.show"
   ]
  },
  {
   "cell_type": "code",
   "execution_count": null,
   "metadata": {},
   "outputs": [],
   "source": []
  },
  {
   "cell_type": "code",
   "execution_count": null,
   "metadata": {},
   "outputs": [],
   "source": []
  }
 ],
 "metadata": {
  "kernelspec": {
   "display_name": "Python 3",
   "language": "python",
   "name": "python3"
  },
  "language_info": {
   "codemirror_mode": {
    "name": "ipython",
    "version": 3
   },
   "file_extension": ".py",
   "mimetype": "text/x-python",
   "name": "python",
   "nbconvert_exporter": "python",
   "pygments_lexer": "ipython3",
   "version": "3.7.6"
  }
 },
 "nbformat": 4,
 "nbformat_minor": 4
}
